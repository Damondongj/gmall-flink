{
 "cells": [
  {
   "cell_type": "markdown",
   "metadata": {},
   "source": [
    "leetcode 695 岛屿的最大面积"
   ]
  },
  {
   "cell_type": "code",
   "execution_count": 1,
   "metadata": {},
   "outputs": [],
   "source": [
    "# 通过dfs递归来实现\n",
    "\n",
    "from typing import List\n",
    "\n",
    "class Solution:\n",
    "    def dfs(self, grid, cur_i, cur_j):\n",
    "        if cur_i < 0 or cur_j < 0 or cur_i == len(grid) or cur_j == len(grid[0]) or grid[cur_i][cur_j] != 1:\n",
    "            return 0\n",
    "        grid[cur_i][cur_j] = 0\n",
    "\n",
    "        ans = 1\n",
    "        for di, dj in [[0, 1], [0, -1], [1, 0], [-1, 0]]:\n",
    "            next_i, next_j = cur_i + di, cur_j + dj\n",
    "            ans += self.dfs(grid, next_i, next_j)\n",
    "        return ans\n",
    "\n",
    "    def maxAreaOfIsland(self, grid:List[List[int]]) -> int:\n",
    "        ans = 0\n",
    "        for i, l in enumerate(grid):\n",
    "            for j, n in enumerate(l):\n",
    "                ans = max(self.dfs(grid, i, j), ans)  # 递归的思想，当前这个元素是陆地的时候，将这块陆地的四周递归进行dfs\n",
    "        return ans\n",
    "   \n"
   ]
  },
  {
   "cell_type": "code",
   "execution_count": 2,
   "metadata": {},
   "outputs": [],
   "source": [
    "# 通过 dfs + 栈 来实现\n",
    "from typing import List\n",
    "\n",
    "class Solution:\n",
    "    def maxAreaOfIsland(self, grid:List[List[int]]) -> int:\n",
    "        ans = 0\n",
    "        length = len(grid)\n",
    "        width = len(grid[0])\n",
    "        for i, l in enumerate(grid):\n",
    "            for j, n in enumerate(l):\n",
    "                cur = 0\n",
    "                stack = [(i, j)] # 栈是为了遇到陆地的时候使用的\n",
    "                while stack:  # 栈不为空\n",
    "                    cur_i, cur_j = stack.pop() #出栈\n",
    "                    if cur_i < 0 or cur_j < 0 or cur_i == len(grid) or cur_j == len(grid[0]) or grid[cur_i][cur_j] != 1:\n",
    "                        continue\n",
    "                    grid[cur_i][cur_j] = 0   # 当前值为1, 是陆地 改为0， ++\n",
    "                    cur += 1  \n",
    "                    for di, dj in [[0, 1], [0, -1], [-1, 0], [1, 0]]: # 以当前这块陆地为开始，向四周移动，入栈，将当前块的四周四个位置的元素\n",
    "                                                                        # 都入栈，然后循环栈不为空\n",
    "                        next_i, next_j = cur_i + di, cur_j + dj\n",
    "                        stack.append((next_i, next_j)) \n",
    "                ans = max(ans, cur)\n",
    "        return ans"
   ]
  },
  {
   "cell_type": "code",
   "execution_count": 4,
   "metadata": {},
   "outputs": [],
   "source": [
    "# 通过 bfs + 队列 来实现\n",
    "\n",
    "from collections import deque\n",
    "from typing import List\n",
    "\n",
    "class solution:\n",
    "    def  maxAreaOfIsland(self, grid:List[List[int]]) -> int:\n",
    "        ans = 0\n",
    "        for i, l in enumerate(grid):\n",
    "            for j, n in enumerate(l):\n",
    "                cur = 0\n",
    "                q = deque([(i, j)])\n",
    "                while q:\n",
    "                    cur_i, cur_j = q.popleft()\n",
    "                    if cur_i < 0 or cur_j < 0 or cur_i == len(grid) or cur_j == len(grid[0]) or grid[cur_i][cur_j] != 1:\n",
    "                        continue\n",
    "                    cur += 1\n",
    "                    grid[cur_i][cur_j] = 0\n",
    "                    for di, dj in [[1, 0], [-1, 0], [0, 1], [0, -1]]:\n",
    "                        next_i, next_j = cur_i + di, cur_j + dj\n",
    "                        q.append((next_i, next_j))\n",
    "                ans = max(ans ,cur)\n",
    "\n",
    "        return ans"
   ]
  },
  {
   "cell_type": "markdown",
   "metadata": {},
   "source": [
    "leetcode 200 岛屿数量"
   ]
  },
  {
   "cell_type": "code",
   "execution_count": 35,
   "metadata": {},
   "outputs": [
    {
     "data": {
      "text/plain": [
       "3"
      ]
     },
     "execution_count": 35,
     "metadata": {},
     "output_type": "execute_result"
    }
   ],
   "source": [
    "# 通过判断dfs的返回值是否为0， 如果返回值不为0，说明有一块陆地 sum + 1\n",
    "\n",
    "from typing import List\n",
    "\n",
    "class Solution:\n",
    "    def dfs(self, grid, cur_i, cur_j):\n",
    "        if cur_i < 0 or cur_j < 0 or cur_i == len(grid) or cur_j == len(grid[0]) or grid[cur_i][cur_j] != '1':\n",
    "            return 0\n",
    "        grid[cur_i][cur_j] = 0\n",
    "\n",
    "        ans = 1\n",
    "        for di, dj in [[0, 1], [0, -1], [1, 0], [-1, 0]]:\n",
    "            next_i, next_j = cur_i + di, cur_j + dj\n",
    "            ans += self.dfs(grid, next_i, next_j)\n",
    "        return ans\n",
    "\n",
    "    def numIslands(self, grid:List[List[str]]) -> int:\n",
    "        sum = 0\n",
    "        for i, l in enumerate(grid):\n",
    "            for j, n in enumerate(l):\n",
    "                ans = 0\n",
    "                ans = self.dfs(grid, i, j)\n",
    "                if ans > 0 :\n",
    "                    sum += 1\n",
    "        return sum\n",
    "\n",
    "solution = Solution()\n",
    "grid = [[\"1\",\"1\",\"0\",\"0\",\"0\"],[\"1\",\"1\",\"0\",\"0\",\"0\"],[\"0\",\"0\",\"1\",\"0\",\"0\"],[\"0\",\"0\",\"0\",\"1\",\"1\"]]\n",
    "solution.numIslands(grid)"
   ]
  },
  {
   "cell_type": "code",
   "execution_count": 44,
   "metadata": {},
   "outputs": [
    {
     "data": {
      "text/plain": [
       "3"
      ]
     },
     "execution_count": 44,
     "metadata": {},
     "output_type": "execute_result"
    }
   ],
   "source": [
    "from typing import List\n",
    "\n",
    "class Solution:\n",
    "    def dfs(self, grid, cur_i, cur_j):\n",
    "        grid[cur_i][cur_j] = 0\n",
    "        nr, nc = len(grid), len(grid[0])\n",
    "        for next_i, next_j in [(cur_i - 1, cur_j), (cur_i + 1, cur_j), (cur_i, cur_j - 1), (cur_i, cur_j + 1)]:\n",
    "            if 0 <= next_i < nr and 0 <= next_j < nc and grid[next_i][next_j] == \"1\":\n",
    "                self.dfs(grid, next_i, next_j)\n",
    "\n",
    "    def numIslands(self, grid: List[List[str]]) -> int:\n",
    "        nr = len(grid)\n",
    "        if nr == 0:\n",
    "            return 0\n",
    "        nc = len(grid[0])\n",
    "\n",
    "        num_islands = 0\n",
    "        for i in range(nr):\n",
    "            for j in range(nc):\n",
    "                if grid[i][j] == \"1\":\n",
    "                    num_islands += 1\n",
    "                    self.dfs(grid, i, j)\n",
    "        \n",
    "        return num_islands\n",
    "\n",
    "solution = Solution()\n",
    "grid = [[\"1\",\"1\",\"0\",\"0\",\"0\"],[\"1\",\"1\",\"0\",\"0\",\"0\"],[\"0\",\"0\",\"1\",\"0\",\"0\"],[\"0\",\"0\",\"0\",\"1\",\"1\"]]\n",
    "solution.numIslands(grid)"
   ]
  },
  {
   "cell_type": "code",
   "execution_count": 51,
   "metadata": {},
   "outputs": [
    {
     "data": {
      "text/plain": [
       "3"
      ]
     },
     "execution_count": 51,
     "metadata": {},
     "output_type": "execute_result"
    }
   ],
   "source": [
    "# 并查集\n",
    "# 使用并查集代替搜索，为了求出岛屿的数量，扫描整个网格，如果一个位置为1，则将其与相邻四个方向上的1在并查集中进行合并\n",
    "# 最终岛屿的数量就是并查集中连通分量的数目\n",
    "\n",
    "from typing import List\n",
    "\n",
    "class UnionFind:\n",
    "    def __init__(self, grid):\n",
    "        m, n = len(grid), len(grid[0])\n",
    "        self.count = 0\n",
    "        self.parent = [-1] * (m * n)\n",
    "        self.rank = [0] * (m * n)\n",
    "        for i in range(m):\n",
    "            for j in range(n):\n",
    "                if grid[i][j] == \"1\":\n",
    "                    self.parent[i * n + j] = i * n + j # 标记为1的位置\n",
    "                    self.count += 1  # 二位数组中有多少个为1的数量\n",
    "    \n",
    "    # 找到节点i的祖宗 ，递归版本\n",
    "    def find(self, i):\n",
    "        if self.parent[i] != i:\n",
    "            self.parent[i] = self.find(self.parent[i])\n",
    "        return self.parent[i]\n",
    "\n",
    "    # # 非递归版本\n",
    "    # def find_while(self, i):\n",
    "    #     while(self.parent[i] != i):\n",
    "    #         self.parent[i] = self.parent[self.parent[i]]\n",
    "    #         i = self.parent[i]\n",
    "    #     return i\n",
    "\n",
    "\n",
    "    # 合并。先找到x的集合号a, y的集合号b, 如果a, b相等则无需合并, 若a, b不相等\n",
    "    # 则将a的集合号修改为b, 或者将b的集合号修改为a, 只需要修改祖宗就行\n",
    "    def union(self, x, y):\n",
    "        rootx = self.find(x)\n",
    "        rooty = self.find(y)\n",
    "        # root小的指向root大的\n",
    "        if rootx != rooty:\n",
    "            if self.rank[rootx] < self.rank[rooty]:\n",
    "                rootx, rooty = rooty, rootx\n",
    "            self.parent[rooty] = rootx\n",
    "            if self.rank[rootx] == self.rank[rooty]:\n",
    "                self.rank[rootx] += 1\n",
    "            self.count -= 1\n",
    "\n",
    "    def getCount(self):\n",
    "        return self.count\n",
    "\n",
    "\n",
    "class Solution:\n",
    "    def numIslands(self, grid: List[List[str]]) -> int:\n",
    "        nr = len(grid)\n",
    "        if nr == 0:\n",
    "            return 0\n",
    "        nc = len(grid[0])\n",
    "\n",
    "        uf = UnionFind(grid)\n",
    "        for cur_i in range(nr):\n",
    "            for cur_j in range(nc):\n",
    "                if grid[cur_i][cur_j] == '1':  # 当前的这个点是陆地，和思边进行union合并\n",
    "                    grid[cur_i][cur_j] = '0'\n",
    "                    for next_i, next_j in [(cur_i - 1, cur_j), (cur_i + 1, cur_j), (cur_i, cur_j - 1), (cur_i, cur_j + 1)]:\n",
    "                        if 0 <= next_i < nr and 0 <= next_j < nc and grid[next_i][next_j] == '1':\n",
    "                            uf.union(cur_i * nc + cur_j, next_i * nc + next_j)\n",
    "        return uf.getCount()\n",
    "\n",
    "solution = Solution()\n",
    "grid = [[\"1\",\"1\",\"0\",\"0\",\"0\"],[\"1\",\"1\",\"0\",\"0\",\"0\"],[\"0\",\"0\",\"1\",\"0\",\"0\"],[\"0\",\"0\",\"0\",\"1\",\"1\"]]\n",
    "solution.numIslands(grid)\n"
   ]
  },
  {
   "cell_type": "markdown",
   "metadata": {},
   "source": [
    "leetcode 547 省份数量"
   ]
  },
  {
   "cell_type": "markdown",
   "metadata": {},
   "source": [
    "有 n 个城市，其中一些彼此相连，另一些没有相连。如果城市 a 与城市 b 直接相连，且城市 b 与城市 c 直接相连，那么城市 a 与城市 c 间接相连。\n",
    "\n",
    "省份 是一组直接或间接相连的城市，组内不含其他没有相连的城市。\n",
    "\n",
    "给你一个 n x n 的矩阵 isConnected ，其中 isConnected[i][j] = 1 表示第 i 个城市和第 j 个城市直接相连，而 isConnected[i][j] = 0 表示二者不直接相连。\n",
    "\n",
    "返回矩阵中 省份 的数量。\n",
    "\n",
    "输入：isConnected = [[1,1,0],[1,1,0],[0,0,1]]\n",
    "输出：2"
   ]
  },
  {
   "cell_type": "code",
   "execution_count": 22,
   "metadata": {},
   "outputs": [
    {
     "data": {
      "text/plain": [
       "1"
      ]
     },
     "execution_count": 22,
     "metadata": {},
     "output_type": "execute_result"
    }
   ],
   "source": [
    "from typing import List\n",
    "\n",
    "class Solution:\n",
    "    def findCircleNum(self, isConnected: List[List[int]]) -> int:\n",
    "        def find(index: int) -> int:\n",
    "            if parent[index] != index:\n",
    "                parent[index] = find(parent[index])\n",
    "            return parent[index]\n",
    "        \n",
    "        def union(index1: int, index2: int):\n",
    "            parent[find(index1)] = find(index2)\n",
    "\n",
    "        \n",
    "        cities = len(isConnected)\n",
    "        parent = list(range(cities))\n",
    "\n",
    "        for i in range(cities):\n",
    "            for j in range(i + 1, cities):\n",
    "                if isConnected[i][j] == 1:\n",
    "                    # isConnected==1的时候，这两个节点一定有关系，进行合并\n",
    "                    union(i, j)\n",
    "        \n",
    "        provinces = sum(parent[i] == i for i in range(cities))\n",
    "        return provinces\n",
    "        \n",
    "solution = Solution()\n",
    "isConnected = [[1,0,0,1],[0,1,1,0],[0,1,1,1],[1,0,1,1]]  # 应该是1 输出是4 \n",
    "solution.findCircleNum(isConnected)\n"
   ]
  },
  {
   "cell_type": "code",
   "execution_count": 37,
   "metadata": {},
   "outputs": [
    {
     "data": {
      "text/plain": [
       "1"
      ]
     },
     "execution_count": 37,
     "metadata": {},
     "output_type": "execute_result"
    }
   ],
   "source": [
    "class Solution:\n",
    "    def findCircleNum(self, isConnected: List[List[int]]) -> int:\n",
    "        def dfs(i: int):\n",
    "            for j in range(cities):\n",
    "                if isConnected[i][j] == 1 and j not in visited:\n",
    "                    visited.add(j)\n",
    "                    dfs(j)\n",
    "\n",
    "        cities = len(isConnected)\n",
    "        visited = set()\n",
    "        province = 0\n",
    "\n",
    "        for i in range(cities):\n",
    "            if i not in visited:\n",
    "                dfs(i)\n",
    "                province += 1\n",
    "        return province\n",
    "\n",
    "solution = Solution()\n",
    "isConnected = [[1,0,0,1],[0,1,1,0],[0,1,1,1],[1,0,1,1]]  # 应该是1 输出是4 \n",
    "solution.findCircleNum(isConnected)"
   ]
  },
  {
   "cell_type": "code",
   "execution_count": 38,
   "metadata": {},
   "outputs": [
    {
     "data": {
      "text/plain": [
       "4"
      ]
     },
     "execution_count": 38,
     "metadata": {},
     "output_type": "execute_result"
    }
   ],
   "source": [
    "from collections import deque\n",
    "\n",
    "class Solution:\n",
    "    def findCircleNum(self, isConnected: List[List[int]]) -> int:\n",
    "        cities = len(isConnected)\n",
    "        visited = set()\n",
    "        provinces = 0\n",
    "\n",
    "        for i in range(cities):\n",
    "            if i not in visited:\n",
    "                Q = deque([i])\n",
    "                while Q:\n",
    "                    j = Q.popleft()\n",
    "                    visited.add(j)\n",
    "                    for k in range(cities):\n",
    "                        if isConnected[j][k] == 1 and k not in visited:\n",
    "                            Q.append(k)\n",
    "                provinces += 1\n",
    "\n",
    "        return provinces"
   ]
  },
  {
   "cell_type": "markdown",
   "metadata": {},
   "source": [
    "leetcode 104 二叉树的最大深度"
   ]
  },
  {
   "cell_type": "code",
   "execution_count": 2,
   "metadata": {},
   "outputs": [],
   "source": [
    "# Definition for a binary tree node.\n",
    "class TreeNode:\n",
    "    def __init__(self, val=0, left=None, right=None):\n",
    "        self.val = val\n",
    "        self.left = left\n",
    "        self.right = right\n",
    "from typing import Optional\n",
    "\n",
    "\n",
    "class Solution:\n",
    "    def maxDepth(self, root: Optional[TreeNode]) -> int:\n",
    "        if root is None:\n",
    "            return 0\n",
    "        else:\n",
    "            lh = self.maxDepth(root.left)\n",
    "            rh = self.maxDepth(root.right)\n",
    "            return max(lh, rh) + 1 "
   ]
  },
  {
   "cell_type": "markdown",
   "metadata": {},
   "source": [
    "leetcode 2091 从数组中移除最大值和最小值"
   ]
  },
  {
   "cell_type": "markdown",
   "metadata": {},
   "source": [
    "给你一个下标从 0 开始的数组 nums ，数组由若干 互不相同 的整数组成。\n",
    "\n",
    "nums 中有一个值最小的元素和一个值最大的元素。分别称为 最小值 和 最大值 。你的目标是从数组中移除这两个元素。\n",
    "\n",
    "一次 删除 操作定义为从数组的 前面 移除一个元素或从数组的 后面 移除一个元素。\n",
    "\n",
    "返回将数组中最小值和最大值 都 移除需要的最小删除次数。\n",
    "\n",
    " \n",
    "\n",
    "示例 1：\n",
    "\n",
    "输入：nums = [2,10,7,5,4,1,8,6]\n",
    "输出：5\n",
    "解释：\n",
    "数组中的最小元素是 nums[5] ，值为 1 。\n",
    "数组中的最大元素是 nums[1] ，值为 10 。\n",
    "将最大值和最小值都移除需要从数组前面移除 2 个元素，从数组后面移除 3 个元素。\n",
    "结果是 2 + 3 = 5 ，这是所有可能情况中的最小删除次数。\n",
    "示例 2：\n",
    "\n",
    "输入：nums = [0,-4,19,1,8,-2,-3,5]\n",
    "输出：3\n",
    "解释：\n",
    "数组中的最小元素是 nums[1] ，值为 -4 。\n",
    "数组中的最大元素是 nums[2] ，值为 19 。\n",
    "将最大值和最小值都移除需要从数组前面移除 3 个元素。\n",
    "结果是 3 ，这是所有可能情况中的最小删除次数。\n"
   ]
  },
  {
   "cell_type": "code",
   "execution_count": 55,
   "metadata": {},
   "outputs": [
    {
     "data": {
      "text/plain": [
       "3"
      ]
     },
     "execution_count": 55,
     "metadata": {},
     "output_type": "execute_result"
    }
   ],
   "source": [
    "\n",
    "class Solution:\n",
    "    def minimumDeletions(self, nums: List[int]) -> int:\n",
    "        if len(nums) == 1:\n",
    "            return 1\n",
    "\n",
    "        min_index = 0\n",
    "        max_index = 0\n",
    "\n",
    "        for i in range(len(nums)):\n",
    "            if nums[i] < nums[min_index]:\n",
    "                min_index = i\n",
    "            if nums[i] > nums[max_index]:\n",
    "                max_index = i\n",
    "\n",
    "        max_1 = max(min_index, max_index)\n",
    "        min_1 = min(min_index, max_index)\n",
    "\n",
    "        return min(min_1 + 1 + len(nums) - max_1, min(max_1 + 1, len(nums) - min_1))\n",
    "\n",
    "solution = Solution()\n",
    "nums = [-87,60,-30,-67,74,55,76,-53]\n",
    "solution.minimumDeletions(nums)\n"
   ]
  },
  {
   "cell_type": "markdown",
   "metadata": {},
   "source": [
    "leetcode 88 合并两个有序数组"
   ]
  },
  {
   "cell_type": "markdown",
   "metadata": {},
   "source": [
    "输入：nums1 = [1,2,3,0,0,0], m = 3, nums2 = [2,5,6], n = 3\n",
    "输出：[1,2,2,3,5,6]\n",
    "解释：需要合并 [1,2,3] 和 [2,5,6] 。\n",
    "合并结果是 [1,2,2,3,5,6] ，其中斜体加粗标注的为 nums1 中的元素。"
   ]
  },
  {
   "cell_type": "code",
   "execution_count": 43,
   "metadata": {},
   "outputs": [],
   "source": [
    "# 逆向双指针\n",
    "\n",
    "from typing import List\n",
    "\n",
    "class Solution:\n",
    "    def merge(self, nums1: List[int], m: int, nums2: List[int], n: int) -> None:\n",
    "        p1 = m - 1\n",
    "        p2 = n - 1\n",
    "        p = m + n - 1\n",
    "        while p1 >= 0 or p2 >=0 :\n",
    "            if p1 == -1:\n",
    "                nums1[p] = nums2[p2]\n",
    "                p2 -=1\n",
    "            elif p2 == -1:\n",
    "                nums1[p] = nums2[p1]\n",
    "                p1 -=1\n",
    "            elif nums1[p1] > nums2[p2]:\n",
    "                nums1[p] = nums1[p1]\n",
    "                p1 -= 1\n",
    "            elif nums1[p1] <= nums1[p2]:\n",
    "                nums1[p] = nums1[p2]\n",
    "                p2 -=1\n",
    "            p -=1\n",
    "        return nums1\n",
    "\n",
    "# solution = Solution()\n",
    "# nums1 = [1,2,3,0,0,0] \n",
    "# m = 3\n",
    "# nums2 = [2,5,6]\n",
    "# n = 3\n",
    "# solution.merge(nums1, m, nums2, n)"
   ]
  },
  {
   "cell_type": "markdown",
   "metadata": {},
   "source": [
    "leetcode 90 子集 (未解决)"
   ]
  },
  {
   "cell_type": "code",
   "execution_count": 64,
   "metadata": {},
   "outputs": [],
   "source": [
    "class Solution:\n",
    "    def subsetsWithDup(self, nums: List[int]) -> List[List[int]]:\n",
    "        pass    "
   ]
  },
  {
   "cell_type": "code",
   "execution_count": null,
   "metadata": {},
   "outputs": [],
   "source": []
  },
  {
   "cell_type": "markdown",
   "metadata": {},
   "source": [
    "leetcode 136 只出现一次的数字 I"
   ]
  },
  {
   "cell_type": "code",
   "execution_count": 70,
   "metadata": {},
   "outputs": [
    {
     "data": {
      "text/plain": [
       "4"
      ]
     },
     "execution_count": 70,
     "metadata": {},
     "output_type": "execute_result"
    }
   ],
   "source": [
    "from functools import reduce\n",
    "\n",
    "\n",
    "class Solution:\n",
    "    def singleNumber(self, nums: List[int]) -> int:\n",
    "        # num = nums[0]\n",
    "        # for i in range(1, len(nums)):\n",
    "        #     num = num^nums[i]\n",
    "        # return num\n",
    "\n",
    "        return reduce(lambda x, y: x ^ y, nums)\n",
    "\n",
    "solution = Solution()\n",
    "solution.singleNumber([4,1,2,1,2])"
   ]
  },
  {
   "cell_type": "markdown",
   "metadata": {},
   "source": [
    "leetcode 137 只出现一次的数字 II"
   ]
  },
  {
   "cell_type": "markdown",
   "metadata": {},
   "source": [
    "只有一个数字出现一次，别的都出现三次"
   ]
  },
  {
   "cell_type": "code",
   "execution_count": 11,
   "metadata": {},
   "outputs": [
    {
     "data": {
      "text/plain": [
       "99"
      ]
     },
     "execution_count": 11,
     "metadata": {},
     "output_type": "execute_result"
    }
   ],
   "source": [
    "from typing import List\n",
    "\n",
    "class Solution:\n",
    "    def singleNumber(self, nums: List[int]) -> int:\n",
    "        ans = 0\n",
    "        for i in range(32):\n",
    "            total = sum((num >> i) & 1 for num in nums)\n",
    "            if total % 3:\n",
    "                if i == 31:\n",
    "                    ans -= (1<<i)\n",
    "                else:\n",
    "                    ans |= (1<<i)\n",
    "        return ans\n",
    "solution = Solution()\n",
    "nums = [0,1,0,1,0,1,99]\n",
    "solution.singleNumber(nums)"
   ]
  },
  {
   "cell_type": "code",
   "execution_count": 43,
   "metadata": {},
   "outputs": [
    {
     "data": {
      "text/plain": [
       "3"
      ]
     },
     "execution_count": 43,
     "metadata": {},
     "output_type": "execute_result"
    }
   ],
   "source": [
    "class Solution:\n",
    "    def minBitFlips(self, start: int, goal: int) -> int:\n",
    "        start = bin(start)[2:]\n",
    "        goal = bin(goal)[2:]\n",
    "\n",
    "        if len(start) > len(goal):\n",
    "            goal = '0' * (len(start) - len(goal)) + goal\n",
    "        else:\n",
    "            start = '0' * (len(goal) - len(start)) + start\n",
    "                     \n",
    "        sum = 0\n",
    "        for i in range(len(start)):\n",
    "            if start[i] != goal[i]:\n",
    "                sum += 1\n",
    "        return sum\n",
    "\n",
    "solution = Solution()\n",
    "solution.minBitFlips(start = 3, goal = 4)     "
   ]
  },
  {
   "cell_type": "code",
   "execution_count": 33,
   "metadata": {},
   "outputs": [
    {
     "data": {
      "text/plain": [
       "'0b100'"
      ]
     },
     "execution_count": 33,
     "metadata": {},
     "output_type": "execute_result"
    }
   ],
   "source": [
    "# 最大连续子串\n",
    "\n",
    "class Solution:\n",
    "    def maxPower(self, s: str) -> int:\n",
    "        ans, cnt = 1, 1\n",
    "        for i in range(1, len(s)):\n",
    "            if s[i] == s[i - 1]:\n",
    "                cnt += 1\n",
    "                ans = max(ans, cnt)\n",
    "            else:\n",
    "                cnt = 1\n",
    "        return ans"
   ]
  },
  {
   "cell_type": "markdown",
   "metadata": {},
   "source": [
    "leetcode 2195 向数组中追加 K 个整数"
   ]
  },
  {
   "cell_type": "markdown",
   "metadata": {},
   "source": [
    "给你一个整数数组 nums 和一个整数 k 。请你向 nums 中追加 k 个 未 出现在 nums 中的、互不相同 的 正 整数，并使结果数组的元素和 最小 。\n",
    "\n",
    "返回追加到 nums 中的 k 个整数之和。\n",
    "\n",
    " \n",
    "\n",
    "示例 1：\n",
    "\n",
    "输入：nums = [1,4,25,10,25], k = 2\n",
    "输出：5\n",
    "解释：在该解法中，向数组中追加的两个互不相同且未出现的正整数是 2 和 3 。\n",
    "nums 最终元素和为 1 + 4 + 25 + 10 + 25 + 2 + 3 = 70 ，这是所有情况中的最小值。\n",
    "所以追加到数组中的两个整数之和是 2 + 3 = 5 ，所以返回 5 。\n",
    "示例 2：\n",
    "\n",
    "输入：nums = [5,6], k = 6\n",
    "输出：25\n",
    "解释：在该解法中，向数组中追加的两个互不相同且未出现的正整数是 1 、2 、3 、4 、7 和 8 。\n",
    "nums 最终元素和为 5 + 6 + 1 + 2 + 3 + 4 + 7 + 8 = 36 ，这是所有情况中的最小值。\n",
    "所以追加到数组中的两个整数之和是 1 + 2 + 3 + 4 + 7 + 8 = 25 ，所以返回 25 。"
   ]
  },
  {
   "cell_type": "code",
   "execution_count": 55,
   "metadata": {},
   "outputs": [
    {
     "data": {
      "text/plain": [
       "471103521802"
      ]
     },
     "execution_count": 55,
     "metadata": {},
     "output_type": "execute_result"
    }
   ],
   "source": [
    "# ps: 我写的超时了\n",
    "\n",
    "from typing import List\n",
    "\n",
    "class Solution:\n",
    "    def minimalKSum(self, nums: List[int], k: int) -> int:\n",
    "        max_num = max(nums)\n",
    "        lis = [0] * (max_num + k)\n",
    "        for num in nums:\n",
    "            lis[num - 1] = 1\n",
    "        result = 0\n",
    "        count = 0\n",
    "        for i in range(0, len(lis)):\n",
    "            if lis[i] == 0:\n",
    "                count += 1\n",
    "                result += (i + 1)\n",
    "            if count == k:\n",
    "                break       \n",
    "        return result\n",
    "solution = Solution()\n",
    "solution.minimalKSum(nums = [23767857,21565918,85047221,44602805,11800671,35095294,970673,88859293,73171470,37153084,87889470,72219057,79109884,38623962,62878542,58062287,99994523,3107671], \n",
    "k = 970673)\n",
    "\n",
    "\n",
    "\n",
    "# class Solution:\n",
    "#     def minimalKSum(self, nums: List[int], k: int) -> int:\n",
    "#         nums.extend([0, int(2e9) + 1])\n",
    "#         nums.sort()\n",
    "\n",
    "#         presum = 0\n",
    "#         ans = 0\n",
    "#         for i in range(1, len(nums)):\n",
    "#             offer = nums[i] - nums[i - 1] - 1\n",
    "#             if offer > 0:\n",
    "#                 if offer < k:\n",
    "#                     k -= offer\n",
    "#                 else:\n",
    "#                     ans = (nums[i - 1] + k + 1) * (nums[i - 1] + k) // 2 - presum\n",
    "#                     break\n",
    "#             if nums[i] != nums[i - 1]:\n",
    "#                 presum += nums[i]\n",
    "        \n",
    "#         return ans"
   ]
  },
  {
   "cell_type": "code",
   "execution_count": 90,
   "metadata": {},
   "outputs": [
    {
     "data": {
      "text/plain": [
       "12"
      ]
     },
     "execution_count": 90,
     "metadata": {},
     "output_type": "execute_result"
    }
   ],
   "source": [
    "class Solution:\n",
    "    def trailingZeroes(self, n: int) -> int:\n",
    "        ans = 0\n",
    "        for i in range(5, n+1, 5):\n",
    "            while i % 5 == 0:\n",
    "                i //= 5\n",
    "                ans +=1\n",
    "        return ans\n",
    "        \n",
    "\n",
    "solution = Solution()\n",
    "solution.trailingZeroes(50)"
   ]
  },
  {
   "cell_type": "code",
   "execution_count": 85,
   "metadata": {},
   "outputs": [
    {
     "data": {
      "text/plain": [
       "8"
      ]
     },
     "execution_count": 85,
     "metadata": {},
     "output_type": "execute_result"
    }
   ],
   "source": [
    "40 //5"
   ]
  },
  {
   "cell_type": "code",
   "execution_count": 83,
   "metadata": {},
   "outputs": [
    {
     "data": {
      "text/plain": [
       "8320987112741390144276341183223364380754172606361245952449277696409600000000000000"
      ]
     },
     "execution_count": 83,
     "metadata": {},
     "output_type": "execute_result"
    }
   ],
   "source": [
    "from functools import reduce\n",
    "\n",
    "n = 60\n",
    "reduce(lambda x,y: x*y, range(1, n+1))"
   ]
  }
 ],
 "metadata": {
  "kernelspec": {
   "display_name": "Python 3.8.8 64-bit",
   "language": "python",
   "name": "python3"
  },
  "language_info": {
   "codemirror_mode": {
    "name": "ipython",
    "version": 3
   },
   "file_extension": ".py",
   "mimetype": "text/x-python",
   "name": "python",
   "nbconvert_exporter": "python",
   "pygments_lexer": "ipython3",
   "version": "3.8.8"
  },
  "orig_nbformat": 4,
  "vscode": {
   "interpreter": {
    "hash": "aee8b7b246df8f9039afb4144a1f6fd8d2ca17a180786b69acc140d282b71a49"
   }
  }
 },
 "nbformat": 4,
 "nbformat_minor": 2
}