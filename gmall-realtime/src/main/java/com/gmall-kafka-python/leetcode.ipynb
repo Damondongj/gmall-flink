{
 "cells": [
  {
   "cell_type": "markdown",
   "metadata": {},
   "source": [
    "leetcode 695 岛屿的最大面积"
   ]
  },
  {
   "cell_type": "code",
   "execution_count": 1,
   "metadata": {},
   "outputs": [],
   "source": [
    "# 通过dfs递归来实现\n",
    "\n",
    "from typing import List\n",
    "\n",
    "class Solution:\n",
    "    def dfs(self, grid, cur_i, cur_j):\n",
    "        if cur_i < 0 or cur_j < 0 or cur_i == len(grid[0]) or grid[cur_i][cur_j] != 1:\n",
    "            return 0\n",
    "        grid[cur_i][cur_j] = 0\n",
    "\n",
    "        ans = 1\n",
    "        for di, dj in [[0, 1], [0, -1], [1, 0], [-1, 0]]:\n",
    "            next_i, next_j = cur_i + di, cur_j + dj\n",
    "            ans += self.dfs(grid, next_i, next_j)\n",
    "        return ans\n",
    "\n",
    "    def maxAreaOfIsland(self, grid:List[List[int]]) -> int:\n",
    "        ans = 0\n",
    "        for i, l in enumerate(grid):\n",
    "            for j, n in enumerate(l):\n",
    "                ans = max(self.dfs(grid, i, j), ans)  # 递归的思想，当前这个元素是陆地的时候，将这块陆地的四周递归进行dfs\n",
    "        return ans\n",
    "   \n"
   ]
  },
  {
   "cell_type": "code",
   "execution_count": 2,
   "metadata": {},
   "outputs": [],
   "source": [
    "# 通过 dfs + 栈 来实现\n",
    "\n",
    "class Solution:\n",
    "    def maxAreaOfIsland(self, grid:List[List[int]]) -> int:\n",
    "        ans = 0\n",
    "        length = len(grid)\n",
    "        width = len(grid[0])\n",
    "        for i, l in enumerate(grid):\n",
    "            for j, n in enumerate(l):\n",
    "                cur = 0\n",
    "                stack = [(i, j)] # 栈是为了遇到陆地的时候使用的\n",
    "                while stack:  # 栈不为空\n",
    "                    cur_i, cur_j = stack.pop() #出栈\n",
    "                    if cur_i < 0 or cur_j < 0 or cur_i == width or cur_j == length or grid[cur_i][cur_j] != 1: # 判断当前位置和值是否符合条件\n",
    "                        continue\n",
    "                    grid[cur_i][cur_j] = 0   # 当前值为1, 是陆地 改为0， ++\n",
    "                    cur += 1  \n",
    "                    for di, dj in [[0, 1], [0, -1], [-1, 0], [1, 0]]: # 以当前这块陆地为开始，向四周移动，入栈，将当前块的四周四个位置的元素\n",
    "                                                                        # 都入栈，然后循环栈不为空\n",
    "                        next_i, next_j = cur_i + di, cur_j + dj\n",
    "                        stack.append((next_i, next_j)) \n",
    "                ans = max(ans, cur)\n",
    "        return ans"
   ]
  },
  {
   "cell_type": "code",
   "execution_count": 4,
   "metadata": {},
   "outputs": [],
   "source": [
    "# 通过 bfs + 队列 来实现\n",
    "\n",
    "from collections import deque\n",
    "class solution:\n",
    "    def  maxAreaOfIsland(self, grid:List[List[int]]) -> int:\n",
    "        ans = 0\n",
    "        for i, l in enumerate(grid):\n",
    "            for j, n in enumerate(l):\n",
    "                cur = 0\n",
    "                q = deque([(i, j)])\n",
    "                while q:\n",
    "                    cur_i, cur_j = q.popleft()\n",
    "                    if cur_i < 0 or cur_j < 0 or cur_i == len(grid[0]) or grid[cur_i][cur_j] != 1:\n",
    "                        continue\n",
    "                    cur += 1\n",
    "                    grid[cur_i][cur_j] = 0\n",
    "                    for di, dj in [[1, 0], [-1, 0], [0, 1], [0, -1]]:\n",
    "                        next_i, next_j = cur_i + di, cur_j + dj\n",
    "                        q.append((next_i, next_j))\n",
    "                ans = max(ans ,cur)\n",
    "\n",
    "        return ans"
   ]
  },
  {
   "cell_type": "code",
   "execution_count": null,
   "metadata": {},
   "outputs": [],
   "source": []
  }
 ],
 "metadata": {
  "kernelspec": {
   "display_name": "Python 3.6.8 64-bit",
   "language": "python",
   "name": "python3"
  },
  "language_info": {
   "codemirror_mode": {
    "name": "ipython",
    "version": 3
   },
   "file_extension": ".py",
   "mimetype": "text/x-python",
   "name": "python",
   "nbconvert_exporter": "python",
   "pygments_lexer": "ipython3",
   "version": "3.6.8"
  },
  "orig_nbformat": 4,
  "vscode": {
   "interpreter": {
    "hash": "28ab8887d84f0c8265121ffa65b77bf77bbbe2e36ad614e3e1d7e98c8ca445bb"
   }
  }
 },
 "nbformat": 4,
 "nbformat_minor": 2
}
