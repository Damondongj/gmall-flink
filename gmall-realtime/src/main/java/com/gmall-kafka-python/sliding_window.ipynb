{
 "cells": [
  {
   "cell_type": "markdown",
   "metadata": {},
   "source": [
    "leetcode 209 长度最小的子数组"
   ]
  },
  {
   "cell_type": "code",
   "execution_count": 27,
   "metadata": {},
   "outputs": [
    {
     "data": {
      "text/plain": [
       "1"
      ]
     },
     "execution_count": 27,
     "metadata": {},
     "output_type": "execute_result"
    }
   ],
   "source": [
    "# 滑动窗口解法\n",
    "\n",
    "from typing import List\n",
    "\n",
    "class Solution:\n",
    "    def minSubArrayLen(self, target: int, nums: List[int]) -> int:\n",
    "        length = len(nums)\n",
    "\n",
    "        if length == 0:\n",
    "            return 0\n",
    "            \n",
    "        left = 0 \n",
    "        sum = 0\n",
    "        minLen = []\n",
    "        for right in range(length):\n",
    "            sum += nums[right]\n",
    "            while sum >= target:\n",
    "                minLen.append(right-left + 1)\n",
    "                sum -= nums[left]\n",
    "                left += 1\n",
    "        \n",
    "        return 0 if len(minLen) == 0 else min(minLen)\n",
    "\n",
    "solution = Solution()\n",
    "solution.minSubArrayLen(target = 11, nums = [8,3,1,2,4,11])"
   ]
  },
  {
   "cell_type": "markdown",
   "metadata": {},
   "source": [
    "leetcode 219 存在重复元素 II"
   ]
  },
  {
   "cell_type": "code",
   "execution_count": 57,
   "metadata": {},
   "outputs": [
    {
     "data": {
      "text/plain": [
       "False"
      ]
     },
     "execution_count": 57,
     "metadata": {},
     "output_type": "execute_result"
    }
   ],
   "source": [
    "class Solution:\n",
    "    def containsNearbyDuplicate(self, nums: List[int], k: int) -> bool:\n",
    "        s = set()\n",
    "        for i, num in enumerate(nums):\n",
    "            if i> k: \n",
    "                s.remove(nums[i - k - 1])  # 维持这个set里面只有k个元素\n",
    "            if num in s:\n",
    "                return True\n",
    "            s.add(num)\n",
    "        return False\n",
    "solution = Solution()\n",
    "solution.containsNearbyDuplicate(nums = [2, 3], k = 3)"
   ]
  },
  {
   "cell_type": "code",
   "execution_count": 78,
   "metadata": {},
   "outputs": [
    {
     "data": {
      "text/plain": [
       "6"
      ]
     },
     "execution_count": 78,
     "metadata": {},
     "output_type": "execute_result"
    }
   ],
   "source": [
    "class Solution:\n",
    "    def lengthOfLongestSubstring(self, s: str) -> int:\n",
    "        s = list(s)\n",
    "\n",
    "        if len(s) == 0:\n",
    "            return 0\n",
    "\n",
    "        if len(s) == 1:\n",
    "             return 1\n",
    "\n",
    "        result_lis = []\n",
    "        left = 0\n",
    "        max_len = 0\n",
    "        for right in range(len(s)):\n",
    "            while s[right] in result_lis:\n",
    "                result_lis.remove(s[left])\n",
    "                left += 1\n",
    "            result_lis.append(s[right])\n",
    "            max_len = max(max_len, len(result_lis))\n",
    "        return max_len\n",
    "\n",
    "solution  = Solution()\n",
    "solution.lengthOfLongestSubstring('abgdfsg')"
   ]
  }
 ],
 "metadata": {
  "kernelspec": {
   "display_name": "Python 3.6.8 64-bit",
   "language": "python",
   "name": "python3"
  },
  "language_info": {
   "name": "python",
   "version": "3.6.8"
  },
  "orig_nbformat": 4,
  "vscode": {
   "interpreter": {
    "hash": "28ab8887d84f0c8265121ffa65b77bf77bbbe2e36ad614e3e1d7e98c8ca445bb"
   }
  }
 },
 "nbformat": 4,
 "nbformat_minor": 2
}
